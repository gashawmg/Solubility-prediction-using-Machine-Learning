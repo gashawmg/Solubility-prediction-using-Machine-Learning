{
 "cells": [
  {
   "cell_type": "code",
   "execution_count": 1,
   "metadata": {
    "scrolled": true
   },
   "outputs": [],
   "source": [
    "import sklearn\n",
    "from rdkit.Chem import AllChem\n",
    "from rdkit import Chem\n",
    "from rdkit.Chem import Descriptors\n",
    "from sklearn.model_selection import train_test_split\n",
    "from rdkit.ML.Descriptors import MoleculeDescriptors\n",
    "import pandas as pd\n",
    "from sklearn.pipeline import Pipeline\n",
    "from sklearn.impute import SimpleImputer\n",
    "import matplotlib.pyplot as plt\n",
    "from sklearn.ensemble import RandomForestRegressor\n",
    "import numpy as np\n",
    "from sklearn.metrics import r2_score,mean_absolute_error, mean_squared_error\n",
    "import seaborn as sn\n",
    "from xgboost import XGBRFRegressor\n",
    "from sklearn.preprocessing import StandardScaler"
   ]
  },
  {
   "cell_type": "code",
   "execution_count": 2,
   "metadata": {},
   "outputs": [
    {
     "data": {
      "text/html": [
       "<div>\n",
       "<style scoped>\n",
       "    .dataframe tbody tr th:only-of-type {\n",
       "        vertical-align: middle;\n",
       "    }\n",
       "\n",
       "    .dataframe tbody tr th {\n",
       "        vertical-align: top;\n",
       "    }\n",
       "\n",
       "    .dataframe thead th {\n",
       "        text-align: right;\n",
       "    }\n",
       "</style>\n",
       "<table border=\"1\" class=\"dataframe\">\n",
       "  <thead>\n",
       "    <tr style=\"text-align: right;\">\n",
       "      <th></th>\n",
       "      <th>ESOL predicted log solubility in mols per litre</th>\n",
       "      <th>Minimum Degree</th>\n",
       "      <th>Molecular Weight</th>\n",
       "      <th>Number of H-Bond Donors</th>\n",
       "      <th>Number of Rings</th>\n",
       "      <th>Number of Rotatable Bonds</th>\n",
       "      <th>Polar Surface Area</th>\n",
       "      <th>measured log solubility in mols per litre</th>\n",
       "    </tr>\n",
       "  </thead>\n",
       "  <tbody>\n",
       "    <tr>\n",
       "      <th>count</th>\n",
       "      <td>1128.000000</td>\n",
       "      <td>1128.000000</td>\n",
       "      <td>1128.000000</td>\n",
       "      <td>1128.000000</td>\n",
       "      <td>1128.000000</td>\n",
       "      <td>1128.000000</td>\n",
       "      <td>1128.000000</td>\n",
       "      <td>1128.000000</td>\n",
       "    </tr>\n",
       "    <tr>\n",
       "      <th>mean</th>\n",
       "      <td>-2.988192</td>\n",
       "      <td>1.058511</td>\n",
       "      <td>203.937074</td>\n",
       "      <td>0.701241</td>\n",
       "      <td>1.390957</td>\n",
       "      <td>2.177305</td>\n",
       "      <td>34.872881</td>\n",
       "      <td>-3.050102</td>\n",
       "    </tr>\n",
       "    <tr>\n",
       "      <th>std</th>\n",
       "      <td>1.683220</td>\n",
       "      <td>0.238560</td>\n",
       "      <td>102.738077</td>\n",
       "      <td>1.089727</td>\n",
       "      <td>1.318286</td>\n",
       "      <td>2.640974</td>\n",
       "      <td>35.383593</td>\n",
       "      <td>2.096441</td>\n",
       "    </tr>\n",
       "    <tr>\n",
       "      <th>min</th>\n",
       "      <td>-9.702000</td>\n",
       "      <td>0.000000</td>\n",
       "      <td>16.043000</td>\n",
       "      <td>0.000000</td>\n",
       "      <td>0.000000</td>\n",
       "      <td>0.000000</td>\n",
       "      <td>0.000000</td>\n",
       "      <td>-11.600000</td>\n",
       "    </tr>\n",
       "    <tr>\n",
       "      <th>25%</th>\n",
       "      <td>-3.948250</td>\n",
       "      <td>1.000000</td>\n",
       "      <td>121.183000</td>\n",
       "      <td>0.000000</td>\n",
       "      <td>0.000000</td>\n",
       "      <td>0.000000</td>\n",
       "      <td>0.000000</td>\n",
       "      <td>-4.317500</td>\n",
       "    </tr>\n",
       "    <tr>\n",
       "      <th>50%</th>\n",
       "      <td>-2.870000</td>\n",
       "      <td>1.000000</td>\n",
       "      <td>182.179000</td>\n",
       "      <td>0.000000</td>\n",
       "      <td>1.000000</td>\n",
       "      <td>1.000000</td>\n",
       "      <td>26.300000</td>\n",
       "      <td>-2.860000</td>\n",
       "    </tr>\n",
       "    <tr>\n",
       "      <th>75%</th>\n",
       "      <td>-1.843750</td>\n",
       "      <td>1.000000</td>\n",
       "      <td>270.372000</td>\n",
       "      <td>1.000000</td>\n",
       "      <td>2.000000</td>\n",
       "      <td>3.000000</td>\n",
       "      <td>55.440000</td>\n",
       "      <td>-1.600000</td>\n",
       "    </tr>\n",
       "    <tr>\n",
       "      <th>max</th>\n",
       "      <td>1.091000</td>\n",
       "      <td>2.000000</td>\n",
       "      <td>780.949000</td>\n",
       "      <td>11.000000</td>\n",
       "      <td>8.000000</td>\n",
       "      <td>23.000000</td>\n",
       "      <td>268.680000</td>\n",
       "      <td>1.580000</td>\n",
       "    </tr>\n",
       "  </tbody>\n",
       "</table>\n",
       "</div>"
      ],
      "text/plain": [
       "       ESOL predicted log solubility in mols per litre  Minimum Degree  \\\n",
       "count                                      1128.000000     1128.000000   \n",
       "mean                                         -2.988192        1.058511   \n",
       "std                                           1.683220        0.238560   \n",
       "min                                          -9.702000        0.000000   \n",
       "25%                                          -3.948250        1.000000   \n",
       "50%                                          -2.870000        1.000000   \n",
       "75%                                          -1.843750        1.000000   \n",
       "max                                           1.091000        2.000000   \n",
       "\n",
       "       Molecular Weight  Number of H-Bond Donors  Number of Rings  \\\n",
       "count       1128.000000              1128.000000      1128.000000   \n",
       "mean         203.937074                 0.701241         1.390957   \n",
       "std          102.738077                 1.089727         1.318286   \n",
       "min           16.043000                 0.000000         0.000000   \n",
       "25%          121.183000                 0.000000         0.000000   \n",
       "50%          182.179000                 0.000000         1.000000   \n",
       "75%          270.372000                 1.000000         2.000000   \n",
       "max          780.949000                11.000000         8.000000   \n",
       "\n",
       "       Number of Rotatable Bonds  Polar Surface Area  \\\n",
       "count                1128.000000         1128.000000   \n",
       "mean                    2.177305           34.872881   \n",
       "std                     2.640974           35.383593   \n",
       "min                     0.000000            0.000000   \n",
       "25%                     0.000000            0.000000   \n",
       "50%                     1.000000           26.300000   \n",
       "75%                     3.000000           55.440000   \n",
       "max                    23.000000          268.680000   \n",
       "\n",
       "       measured log solubility in mols per litre  \n",
       "count                                1128.000000  \n",
       "mean                                   -3.050102  \n",
       "std                                     2.096441  \n",
       "min                                   -11.600000  \n",
       "25%                                    -4.317500  \n",
       "50%                                    -2.860000  \n",
       "75%                                    -1.600000  \n",
       "max                                     1.580000  "
      ]
     },
     "execution_count": 2,
     "metadata": {},
     "output_type": "execute_result"
    }
   ],
   "source": [
    "dataset = pd.read_csv('delaney-processed.csv')\n",
    "dataset.describe()"
   ]
  },
  {
   "cell_type": "code",
   "execution_count": 3,
   "metadata": {},
   "outputs": [],
   "source": [
    "  X, y  = dataset['smiles'], dataset['measured log solubility in mols per litre']\n",
    "    "
   ]
  },
  {
   "cell_type": "code",
   "execution_count": 4,
   "metadata": {},
   "outputs": [
    {
     "data": {
      "text/plain": [
       "0       OCC3OC(OCC2OC(OC(C#N)c1ccccc1)C(O)C(O)C2O)C(O)...\n",
       "1                                  Cc1occc1C(=O)Nc2ccccc2\n",
       "2                                    CC(C)=CCCC(C)=CC(=O)\n",
       "3                      c1ccc2c(c1)ccc3c2ccc4c5ccccc5ccc43\n",
       "4                                                 c1ccsc1\n",
       "                              ...                        \n",
       "1123                                     FC(F)(F)C(Cl)Br \n",
       "1124                            CNC(=O)ON=C(SC)C(=O)N(C)C\n",
       "1125                                    CCSCCSP(=S)(OC)OC\n",
       "1126                                              CCC(C)C\n",
       "1127                COP(=O)(OC)OC(=CCl)c1cc(Cl)c(Cl)cc1Cl\n",
       "Name: smiles, Length: 1128, dtype: object"
      ]
     },
     "execution_count": 4,
     "metadata": {},
     "output_type": "execute_result"
    }
   ],
   "source": [
    "X"
   ]
  },
  {
   "cell_type": "code",
   "execution_count": 5,
   "metadata": {},
   "outputs": [
    {
     "data": {
      "text/plain": [
       "0      -0.770\n",
       "1      -3.300\n",
       "2      -2.060\n",
       "3      -7.870\n",
       "4      -1.330\n",
       "        ...  \n",
       "1123   -1.710\n",
       "1124    0.106\n",
       "1125   -3.091\n",
       "1126   -3.180\n",
       "1127   -4.522\n",
       "Name: measured log solubility in mols per litre, Length: 1128, dtype: float64"
      ]
     },
     "execution_count": 5,
     "metadata": {},
     "output_type": "execute_result"
    }
   ],
   "source": [
    "y"
   ]
  },
  {
   "cell_type": "code",
   "execution_count": 6,
   "metadata": {},
   "outputs": [],
   "source": [
    "X_train, X_test, y_train, y_test = train_test_split(X, y, test_size = 0.3)"
   ]
  },
  {
   "cell_type": "code",
   "execution_count": 7,
   "metadata": {},
   "outputs": [],
   "source": [
    "train_morgan_fps = []\n",
    "train_rd_fps = []\n",
    "train_info=[]\n",
    "\n",
    "\n",
    "for i in X_train:\n",
    "    mol = Chem.MolFromSmiles(i) \n",
    "    info = {}\n",
    "    temp = AllChem.GetMorganFingerprintAsBitVect(mol,2,2048,bitInfo=info)\n",
    "    train_morgan_fps.append(temp)\n",
    "    train_info.append(info)\n",
    "    train_rd_fps.append(Chem.RDKFingerprint(mol))\n",
    "   \n"
   ]
  },
  {
   "cell_type": "code",
   "execution_count": 8,
   "metadata": {},
   "outputs": [],
   "source": [
    "test_morgan_fps = []\n",
    "test_rd_fps = []\n",
    "test_info=[]   \n",
    "for j in X_test:\n",
    "    mol = Chem.MolFromSmiles(j) \n",
    "    info = {}\n",
    "    temp = AllChem.GetMorganFingerprintAsBitVect(mol,2,2048,bitInfo=info)\n",
    "    test_morgan_fps.append(temp)\n",
    "    test_info.append(info)\n",
    "    test_rd_fps.append(Chem.RDKFingerprint(mol))\n",
    "  \n",
    "    "
   ]
  },
  {
   "cell_type": "code",
   "execution_count": 9,
   "metadata": {},
   "outputs": [],
   "source": [
    "rf = RandomForestRegressor(random_state=42)\n"
   ]
  },
  {
   "cell_type": "code",
   "execution_count": 10,
   "metadata": {},
   "outputs": [],
   "source": [
    "# Data preprocessing using pipeline \n",
    "pipe = Pipeline(steps=[\n",
    "        ('scale', StandardScaler()),\n",
    "        ('preprocessor', SimpleImputer()),\n",
    "        ('model', rf)])"
   ]
  },
  {
   "cell_type": "code",
   "execution_count": 11,
   "metadata": {},
   "outputs": [],
   "source": [
    "# Model Training and prediction\n",
    "pipe.fit(train_morgan_fps,y_train) # training using 70% of the data\n",
    "rf_prediction = pipe.predict(test_morgan_fps) # predicting yield for 30% of the data"
   ]
  },
  {
   "cell_type": "code",
   "execution_count": 12,
   "metadata": {},
   "outputs": [
    {
     "name": "stdout",
     "output_type": "stream",
     "text": [
      "rmse: 1.342872356772901\n"
     ]
    }
   ],
   "source": [
    "#Model accuracy using root mean square error \n",
    "rmse = np.sqrt(mean_squared_error(y_test, rf_prediction)) \n",
    "print('rmse:', rmse)"
   ]
  },
  {
   "cell_type": "code",
   "execution_count": 13,
   "metadata": {},
   "outputs": [],
   "source": [
    "# Model Training and prediction\n",
    "pipe.fit(train_rd_fps,y_train) # training using 70% of the data\n",
    "rf_prediction_rd = pipe.predict(test_rd_fps) # predicting yield for 30% of the data"
   ]
  },
  {
   "cell_type": "code",
   "execution_count": 14,
   "metadata": {},
   "outputs": [
    {
     "name": "stdout",
     "output_type": "stream",
     "text": [
      "rmse_rd: 1.0017949136809765\n"
     ]
    }
   ],
   "source": [
    "#Model accuracy using root mean square error \n",
    "rmse_rd = np.sqrt(mean_squared_error(y_test, rf_prediction_rd)) \n",
    "print('rmse_rd:', rmse_rd)"
   ]
  },
  {
   "cell_type": "code",
   "execution_count": 15,
   "metadata": {},
   "outputs": [
    {
     "name": "stdout",
     "output_type": "stream",
     "text": [
      "R^2: 0.7524811530145445\n"
     ]
    }
   ],
   "source": [
    "# R^2 (coefficient of determination) regression score function: \n",
    "R2_rd =r2_score(y_test, rf_prediction_rd)\n",
    "print('R^2:', R2_rd)"
   ]
  },
  {
   "cell_type": "code",
   "execution_count": 16,
   "metadata": {},
   "outputs": [
    {
     "data": {
      "text/plain": [
       "<matplotlib.legend.Legend at 0x2442b58b2b0>"
      ]
     },
     "execution_count": 16,
     "metadata": {},
     "output_type": "execute_result"
    },
    {
     "data": {
      "image/png": "[encoded data removed]",
      "text/plain": [
       "<Figure size 432x288 with 1 Axes>"
      ]
     },
     "metadata": {
      "needs_background": "light"
     },
     "output_type": "display_data"
    }
   ],
   "source": [
    "import matplotlib.patches as mpatches\n",
    "sn.regplot(x=rf_prediction_rd, y=y_test)\n",
    "plt.xlabel('Predicted Yield', color='blue')\n",
    "plt.ylabel('Observed Yield', color ='blue')\n",
    "plt.grid(alpha=0.2)\n",
    "R2_rd = mpatches.Patch(label=\"R2={:04.2f}\".format(R2_rd))\n",
    "rmse_rd = mpatches.Patch(label=\"RMSE={:04.2f}\".format(rmse_rd))\n",
    "plt.legend(handles=[R2_rd, rmse_rd])"
   ]
  },
  {
   "cell_type": "code",
   "execution_count": 17,
   "metadata": {},
   "outputs": [
    {
     "name": "stdout",
     "output_type": "stream",
     "text": [
      "R^2: 0.5552457606942302\n"
     ]
    }
   ],
   "source": [
    "# R^2 (coefficient of determination) regression score function: \n",
    "R2 =r2_score(y_test, rf_prediction)\n",
    "print('R^2:', R2)"
   ]
  },
  {
   "cell_type": "code",
   "execution_count": 18,
   "metadata": {},
   "outputs": [
    {
     "data": {
      "text/plain": [
       "<matplotlib.legend.Legend at 0x2442b6bd700>"
      ]
     },
     "execution_count": 18,
     "metadata": {},
     "output_type": "execute_result"
    },
    {
     "data": {
      "image/png": "[encoded data removed]",
      "text/plain": [
       "<Figure size 432x288 with 1 Axes>"
      ]
     },
     "metadata": {
      "needs_background": "light"
     },
     "output_type": "display_data"
    }
   ],
   "source": [
    "import matplotlib.patches as mpatches\n",
    "sn.regplot(x=rf_prediction, y=y_test)\n",
    "plt.xlabel('Predicted Yield', color='blue')\n",
    "plt.ylabel('Observed Yield', color ='blue')\n",
    "plt.grid(alpha=0.2)\n",
    "R2 = mpatches.Patch(label=\"R2={:04.2f}\".format(R2))\n",
    "rmse = mpatches.Patch(label=\"RMSE={:04.2f}\".format(rmse))\n",
    "plt.legend(handles=[R2, rmse])"
   ]
  },
  {
   "cell_type": "code",
   "execution_count": 19,
   "metadata": {},
   "outputs": [],
   "source": [
    "# XGBoost the most widely used ML model in kaggle competition\n",
    "xgb = XGBRFRegressor(random_state = 42)"
   ]
  },
  {
   "cell_type": "code",
   "execution_count": 20,
   "metadata": {},
   "outputs": [],
   "source": [
    "# Data preprocessing using pipeline \n",
    "pipe2 = Pipeline(steps=[\n",
    "        ('scale', StandardScaler()),\n",
    "        ('preprocessor', SimpleImputer()),\n",
    "        ('model', xgb)])"
   ]
  },
  {
   "cell_type": "code",
   "execution_count": 21,
   "metadata": {},
   "outputs": [],
   "source": [
    "pipe2.fit(train_morgan_fps,y_train)\n",
    "xgb_prediction = pipe2.predict(test_morgan_fps)\n"
   ]
  },
  {
   "cell_type": "code",
   "execution_count": 22,
   "metadata": {},
   "outputs": [
    {
     "name": "stdout",
     "output_type": "stream",
     "text": [
      "rmse2: 1.6024462882782473\n"
     ]
    }
   ],
   "source": [
    "# Model accuracy using root mean square error \n",
    "rmse2 = np.sqrt(mean_squared_error(y_test, xgb_prediction))  \n",
    "print('rmse2:', rmse2)\n"
   ]
  },
  {
   "cell_type": "code",
   "execution_count": 23,
   "metadata": {},
   "outputs": [
    {
     "name": "stdout",
     "output_type": "stream",
     "text": [
      "R^2: 0.3666881830701164\n"
     ]
    }
   ],
   "source": [
    "\n",
    "# R^2 (coefficient of determination) regression score function: \n",
    "R_2 =r2_score(y_test, xgb_prediction)\n",
    "print('R^2:', R_2)"
   ]
  },
  {
   "cell_type": "code",
   "execution_count": 24,
   "metadata": {},
   "outputs": [
    {
     "data": {
      "text/plain": [
       "<matplotlib.legend.Legend at 0x2442b731f10>"
      ]
     },
     "execution_count": 24,
     "metadata": {},
     "output_type": "execute_result"
    },
    {
     "data": {
      "image/png": "[encoded data removed]",
      "text/plain": [
       "<Figure size 432x288 with 1 Axes>"
      ]
     },
     "metadata": {
      "needs_background": "light"
     },
     "output_type": "display_data"
    }
   ],
   "source": [
    "import matplotlib.patches as mpatches\n",
    "sn.regplot(x=xgb_prediction, y=y_test)\n",
    "plt.xlabel('Predicted Yield', color='blue')\n",
    "plt.ylabel('Observed Yield', color ='blue')\n",
    "plt.grid(alpha=0.2)\n",
    "R_2 = mpatches.Patch(label=\"R2={:04.2f}\".format(R_2))\n",
    "rmse2 = mpatches.Patch(label=\"RMSE={:04.2f}\".format(rmse2))\n",
    "plt.legend(handles=[R_2, rmse2])"
   ]
  }
 ],
 "metadata": {
  "kernelspec": {
   "display_name": "Python 3",
   "language": "python",
   "name": "python3"
  },
  "language_info": {
   "codemirror_mode": {
    "name": "ipython",
    "version": 3
   },
   "file_extension": ".py",
   "mimetype": "text/x-python",
   "name": "python",
   "nbconvert_exporter": "python",
   "pygments_lexer": "ipython3",
   "version": "3.8.5"
  }
 },
 "nbformat": 4,
 "nbformat_minor": 4
}
